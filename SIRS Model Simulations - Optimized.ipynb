{
 "cells": [
  {
   "cell_type": "markdown",
   "id": "90c723b7",
   "metadata": {},
   "source": [
    "1) Importing the libraries"
   ]
  },
  {
   "cell_type": "code",
   "execution_count": 98,
   "id": "906dfc8e",
   "metadata": {
    "scrolled": true
   },
   "outputs": [],
   "source": [
    "import numpy as np\n",
    "import matplotlib.pyplot as plt\n",
    "from scipy.integrate import solve_ivp\n",
    "import pandas as pd\n",
    "from numba import njit\n",
    "from joblib import Parallel, delayed"
   ]
  },
  {
   "cell_type": "markdown",
   "id": "89b08d44",
   "metadata": {},
   "source": [
    "2) Defining the simulation parameters:"
   ]
  },
  {
   "cell_type": "code",
   "execution_count": 99,
   "id": "061c921f",
   "metadata": {},
   "outputs": [],
   "source": [
    "t_total = 750 # Simulation duration\n",
    "dt = 0.01 # Step size\n",
    "t_values = np.arange(0, t_total, dt) # Array containing the time values"
   ]
  },
  {
   "cell_type": "markdown",
   "id": "f2a762d7",
   "metadata": {},
   "source": [
    "3) Defining the SIRS Model with vaccination:"
   ]
  },
  {
   "cell_type": "markdown",
   "id": "d5108b2e",
   "metadata": {},
   "source": [
    "SIRS Model with vaccination using the solve_ivp from the scipy integrate library."
   ]
  },
  {
   "cell_type": "markdown",
   "id": "8393904e",
   "metadata": {},
   "source": [
    "Definindo a função $\\alpha(t)$:\n",
    "\n",
    "$\\alpha(t) = 0, x \\notin [t_0, t_{stop}] $\n",
    "\n",
    "$\\alpha(t) = \\alpha, x \\in [t_0, t_{stop}] $"
   ]
  },
  {
   "cell_type": "code",
   "execution_count": 100,
   "id": "f687be45",
   "metadata": {
    "scrolled": true
   },
   "outputs": [],
   "source": [
    "@njit\n",
    "def alpha(t0, tf, t, a):\n",
    "    if t0 <= t <= tf:\n",
    "        return a\n",
    "    else:\n",
    "        return 0.0\n",
    "\n",
    "@njit\n",
    "def SIRS_numba(t, y, beta, mu, delta, t0, tf, a):\n",
    "    S,I,R = y\n",
    "    vac = alpha(t0, tf, t, a)\n",
    "    dSdt = -beta*S*I + delta*R - vac\n",
    "    dIdt = beta*S*I -mu*I\n",
    "    dRdt = mu*I - delta*R + vac\n",
    "    return np.array([dSdt, dIdt, dRdt])\n",
    "\n",
    "def SIRS_wrapper(t, y, beta, mu, delta, t0, tf, a):\n",
    "    return SIRS_numba(t, y, beta, mu, delta, t0, tf, a)"
   ]
  },
  {
   "cell_type": "markdown",
   "id": "121ef11d",
   "metadata": {},
   "source": [
    "Transforme cada simulação numa função que recebe os parâmetros e retorna o resultado."
   ]
  },
  {
   "cell_type": "code",
   "execution_count": 101,
   "id": "61767450",
   "metadata": {},
   "outputs": [],
   "source": [
    "def simular_uma_vez(n, r0, mu, delta, vac_num, t0, a):\n",
    "    t_total = 750\n",
    "    dt = 0.1\n",
    "    beta = mu * r0\n",
    "    i_0 = 1 / n\n",
    "    s_0 = 1 - i_0\n",
    "    r_0 = 0\n",
    "    time_window = vac_num / a\n",
    "    tf = t0 + time_window\n",
    "    delta_t = (0, t_total)\n",
    "\n",
    "    sol = solve_ivp(\n",
    "        SIRS_wrapper,\n",
    "        delta_t,\n",
    "        [s_0, i_0, r_0],\n",
    "        method='RK45',\n",
    "        t_eval=np.linspace(delta_t[0], delta_t[1], int(t_total / dt)),\n",
    "        args=(beta, mu, delta, t0, tf, a),\n",
    "        atol=1e-10,\n",
    "        rtol=1e-6,\n",
    "        max_step=0.1\n",
    "    )\n",
    "\n",
    "    return [n, r0, mu, delta, vac_num, t0, a, min(sol.y[1])]"
   ]
  },
  {
   "cell_type": "markdown",
   "id": "cb470b29",
   "metadata": {},
   "source": [
    "The following code block defines the parameter values that are going to be used in future simulations."
   ]
  },
  {
   "cell_type": "code",
   "execution_count": 105,
   "id": "51e4ad19",
   "metadata": {},
   "outputs": [],
   "source": [
    "N = np.array([1e4, 1e5, 1e6, 1e7])\n",
    "R0 = np.array([1, 3, 5, 7, 9, 11, 13, 15]) # Número de reprodução básico\n",
    "MU = np.array([0.05, 0.1, 0.15, 0.2]) # Taxa de cura\n",
    "DELTA = np.linspace(0.01, 0.1, 4) # Taxa de perda de imunidade\n",
    "VAC_NUM = np.array([0.30, 0.45,0.6, 0.75, 0.9, 1.05, 1.2, 1.35, 1.5]) # Número de vacinas disponíveis (Normalizado)\n",
    "T0 = np.array([20, 40, 60, 80, 100, 120, 140]) # Data de início da vacinação\n",
    "A = np.array([0.07, 0.08]) #Taxa de vacinação"
   ]
  },
  {
   "cell_type": "code",
   "execution_count": 106,
   "id": "49a73950",
   "metadata": {},
   "outputs": [],
   "source": [
    "import itertools\n",
    "\n",
    "# Cria todas as combinações possíveis de parâmetros\n",
    "param_combinations = list(itertools.product(N, R0, MU, DELTA, VAC_NUM, T0, A))"
   ]
  },
  {
   "cell_type": "code",
   "execution_count": 107,
   "id": "bd1a7a94",
   "metadata": {},
   "outputs": [
    {
     "name": "stdout",
     "output_type": "stream",
     "text": [
      "Tempo total de execução: 2.25 segundos\n"
     ]
    }
   ],
   "source": [
    "# n_jobs=-1 usa todos os núcleos disponíveis\n",
    "resultados = Parallel(n_jobs=-1)(delayed(simular_uma_vez)(*params) for params in param_combinations)\n",
    "\n",
    "print(f\"Tempo total de execução: {end - start:.2f} segundos\")\n",
    "\n",
    "# Salvar CSV\n",
    "df = pd.DataFrame(resultados)\n",
    "df.to_csv('Minimo de infectados paralelizado.csv', index=False, header=False)"
   ]
  },
  {
   "cell_type": "markdown",
   "id": "2944952d",
   "metadata": {},
   "source": [
    "Tempo para 1 simulação: 0.144375 s"
   ]
  }
 ],
 "metadata": {
  "kernelspec": {
   "display_name": "Python (Conda)",
   "language": "python",
   "name": "conda-env"
  },
  "language_info": {
   "codemirror_mode": {
    "name": "ipython",
    "version": 3
   },
   "file_extension": ".py",
   "mimetype": "text/x-python",
   "name": "python",
   "nbconvert_exporter": "python",
   "pygments_lexer": "ipython3",
   "version": "3.12.9"
  }
 },
 "nbformat": 4,
 "nbformat_minor": 5
}
